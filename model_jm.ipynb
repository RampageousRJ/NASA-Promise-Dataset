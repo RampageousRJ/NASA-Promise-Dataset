{
 "cells": [
  {
   "cell_type": "markdown",
   "metadata": {},
   "source": [
    "# Software Reliability Engineering - FISAC"
   ]
  },
  {
   "cell_type": "markdown",
   "metadata": {},
   "source": [
    "### Import Libraries"
   ]
  },
  {
   "cell_type": "code",
   "execution_count": 1,
   "metadata": {},
   "outputs": [],
   "source": [
    "import pandas as pd\n",
    "import numpy as np\n",
    "from scipy.stats import ks_2samp\n",
    "from statsmodels.formula.api import ols\n",
    "import matplotlib.pyplot as plt\n",
    "from scipy.optimize import curve_fit\n",
    "from sklearn.linear_model import SGDClassifier\n",
    "from sklearn.metrics import mean_squared_error, accuracy_score\n",
    "from tqdm import tqdm  \n"
   ]
  },
  {
   "cell_type": "code",
   "execution_count": 2,
   "metadata": {},
   "outputs": [
    {
     "data": {
      "text/html": [
       "<div>\n",
       "<style scoped>\n",
       "    .dataframe tbody tr th:only-of-type {\n",
       "        vertical-align: middle;\n",
       "    }\n",
       "\n",
       "    .dataframe tbody tr th {\n",
       "        vertical-align: top;\n",
       "    }\n",
       "\n",
       "    .dataframe thead th {\n",
       "        text-align: right;\n",
       "    }\n",
       "</style>\n",
       "<table border=\"1\" class=\"dataframe\">\n",
       "  <thead>\n",
       "    <tr style=\"text-align: right;\">\n",
       "      <th></th>\n",
       "      <th>loc</th>\n",
       "      <th>v(g)</th>\n",
       "      <th>ev(g)</th>\n",
       "      <th>iv(g)</th>\n",
       "      <th>n</th>\n",
       "      <th>v</th>\n",
       "      <th>l</th>\n",
       "      <th>d</th>\n",
       "      <th>i</th>\n",
       "      <th>e</th>\n",
       "      <th>...</th>\n",
       "      <th>lOCode</th>\n",
       "      <th>lOComment</th>\n",
       "      <th>lOBlank</th>\n",
       "      <th>locCodeAndComment</th>\n",
       "      <th>uniq_Op</th>\n",
       "      <th>uniq_Opnd</th>\n",
       "      <th>total_Op</th>\n",
       "      <th>total_Opnd</th>\n",
       "      <th>branchCount</th>\n",
       "      <th>defects</th>\n",
       "    </tr>\n",
       "  </thead>\n",
       "  <tbody>\n",
       "    <tr>\n",
       "      <th>0</th>\n",
       "      <td>1.1</td>\n",
       "      <td>1.4</td>\n",
       "      <td>1.4</td>\n",
       "      <td>1.4</td>\n",
       "      <td>1.3</td>\n",
       "      <td>1.30</td>\n",
       "      <td>1.30</td>\n",
       "      <td>1.30</td>\n",
       "      <td>1.30</td>\n",
       "      <td>1.30</td>\n",
       "      <td>...</td>\n",
       "      <td>2</td>\n",
       "      <td>2</td>\n",
       "      <td>2</td>\n",
       "      <td>2</td>\n",
       "      <td>1.2</td>\n",
       "      <td>1.2</td>\n",
       "      <td>1.2</td>\n",
       "      <td>1.2</td>\n",
       "      <td>1.4</td>\n",
       "      <td>False</td>\n",
       "    </tr>\n",
       "    <tr>\n",
       "      <th>1</th>\n",
       "      <td>1.0</td>\n",
       "      <td>1.0</td>\n",
       "      <td>1.0</td>\n",
       "      <td>1.0</td>\n",
       "      <td>1.0</td>\n",
       "      <td>1.00</td>\n",
       "      <td>1.00</td>\n",
       "      <td>1.00</td>\n",
       "      <td>1.00</td>\n",
       "      <td>1.00</td>\n",
       "      <td>...</td>\n",
       "      <td>1</td>\n",
       "      <td>1</td>\n",
       "      <td>1</td>\n",
       "      <td>1</td>\n",
       "      <td>1.0</td>\n",
       "      <td>1.0</td>\n",
       "      <td>1.0</td>\n",
       "      <td>1.0</td>\n",
       "      <td>1.0</td>\n",
       "      <td>True</td>\n",
       "    </tr>\n",
       "    <tr>\n",
       "      <th>2</th>\n",
       "      <td>72.0</td>\n",
       "      <td>7.0</td>\n",
       "      <td>1.0</td>\n",
       "      <td>6.0</td>\n",
       "      <td>198.0</td>\n",
       "      <td>1134.13</td>\n",
       "      <td>0.05</td>\n",
       "      <td>20.31</td>\n",
       "      <td>55.85</td>\n",
       "      <td>23029.10</td>\n",
       "      <td>...</td>\n",
       "      <td>51</td>\n",
       "      <td>10</td>\n",
       "      <td>8</td>\n",
       "      <td>1</td>\n",
       "      <td>17.0</td>\n",
       "      <td>36.0</td>\n",
       "      <td>112.0</td>\n",
       "      <td>86.0</td>\n",
       "      <td>13.0</td>\n",
       "      <td>True</td>\n",
       "    </tr>\n",
       "    <tr>\n",
       "      <th>3</th>\n",
       "      <td>190.0</td>\n",
       "      <td>3.0</td>\n",
       "      <td>1.0</td>\n",
       "      <td>3.0</td>\n",
       "      <td>600.0</td>\n",
       "      <td>4348.76</td>\n",
       "      <td>0.06</td>\n",
       "      <td>17.06</td>\n",
       "      <td>254.87</td>\n",
       "      <td>74202.67</td>\n",
       "      <td>...</td>\n",
       "      <td>129</td>\n",
       "      <td>29</td>\n",
       "      <td>28</td>\n",
       "      <td>2</td>\n",
       "      <td>17.0</td>\n",
       "      <td>135.0</td>\n",
       "      <td>329.0</td>\n",
       "      <td>271.0</td>\n",
       "      <td>5.0</td>\n",
       "      <td>True</td>\n",
       "    </tr>\n",
       "    <tr>\n",
       "      <th>4</th>\n",
       "      <td>37.0</td>\n",
       "      <td>4.0</td>\n",
       "      <td>1.0</td>\n",
       "      <td>4.0</td>\n",
       "      <td>126.0</td>\n",
       "      <td>599.12</td>\n",
       "      <td>0.06</td>\n",
       "      <td>17.19</td>\n",
       "      <td>34.86</td>\n",
       "      <td>10297.30</td>\n",
       "      <td>...</td>\n",
       "      <td>28</td>\n",
       "      <td>1</td>\n",
       "      <td>6</td>\n",
       "      <td>0</td>\n",
       "      <td>11.0</td>\n",
       "      <td>16.0</td>\n",
       "      <td>76.0</td>\n",
       "      <td>50.0</td>\n",
       "      <td>7.0</td>\n",
       "      <td>True</td>\n",
       "    </tr>\n",
       "  </tbody>\n",
       "</table>\n",
       "<p>5 rows × 22 columns</p>\n",
       "</div>"
      ],
      "text/plain": [
       "     loc  v(g)  ev(g)  iv(g)      n        v     l      d       i         e   \n",
       "0    1.1   1.4    1.4    1.4    1.3     1.30  1.30   1.30    1.30      1.30  \\\n",
       "1    1.0   1.0    1.0    1.0    1.0     1.00  1.00   1.00    1.00      1.00   \n",
       "2   72.0   7.0    1.0    6.0  198.0  1134.13  0.05  20.31   55.85  23029.10   \n",
       "3  190.0   3.0    1.0    3.0  600.0  4348.76  0.06  17.06  254.87  74202.67   \n",
       "4   37.0   4.0    1.0    4.0  126.0   599.12  0.06  17.19   34.86  10297.30   \n",
       "\n",
       "   ...  lOCode  lOComment  lOBlank  locCodeAndComment  uniq_Op  uniq_Opnd   \n",
       "0  ...       2          2        2                  2      1.2        1.2  \\\n",
       "1  ...       1          1        1                  1      1.0        1.0   \n",
       "2  ...      51         10        8                  1     17.0       36.0   \n",
       "3  ...     129         29       28                  2     17.0      135.0   \n",
       "4  ...      28          1        6                  0     11.0       16.0   \n",
       "\n",
       "   total_Op  total_Opnd  branchCount  defects  \n",
       "0       1.2         1.2          1.4    False  \n",
       "1       1.0         1.0          1.0     True  \n",
       "2     112.0        86.0         13.0     True  \n",
       "3     329.0       271.0          5.0     True  \n",
       "4      76.0        50.0          7.0     True  \n",
       "\n",
       "[5 rows x 22 columns]"
      ]
     },
     "execution_count": 2,
     "metadata": {},
     "output_type": "execute_result"
    }
   ],
   "source": [
    "df = pd.read_csv('jm1.csv')\n",
    "df.head()"
   ]
  },
  {
   "cell_type": "code",
   "execution_count": 3,
   "metadata": {},
   "outputs": [
    {
     "data": {
      "text/plain": [
       "(13204, 22)"
      ]
     },
     "execution_count": 3,
     "metadata": {},
     "output_type": "execute_result"
    }
   ],
   "source": [
    "df.shape"
   ]
  },
  {
   "cell_type": "markdown",
   "metadata": {},
   "source": [
    "### Software Reliability Models"
   ]
  },
  {
   "cell_type": "markdown",
   "metadata": {},
   "source": [
    "#### Jelinsky-Moranda Model"
   ]
  },
  {
   "cell_type": "code",
   "execution_count": 4,
   "metadata": {},
   "outputs": [
    {
     "name": "stdout",
     "output_type": "stream",
     "text": [
      "JM Model Parameters: [1.42827859e+00 5.96523549e-04]\n"
     ]
    },
    {
     "name": "stderr",
     "output_type": "stream",
     "text": [
      "C:\\Users\\Rishabh\\AppData\\Local\\Temp\\ipykernel_3492\\3113981288.py:2: RuntimeWarning: overflow encountered in exp\n",
      "  return theta0 * np.exp(-beta * np.arange(len(failures)))\n"
     ]
    }
   ],
   "source": [
    "def jelinski_moranda(failures, theta0, beta):\n",
    "    return theta0 * np.exp(-beta * np.arange(len(failures)))\n",
    "\n",
    "initial_params = [0.1, 0.1]\n",
    "params, _ = curve_fit(jelinski_moranda, np.arange(len(df)), df['defects'], p0=initial_params)\n",
    "print(f\"JM Model Parameters: {params}\")"
   ]
  },
  {
   "cell_type": "markdown",
   "metadata": {},
   "source": [
    "#### Non-Homogeneous Poisson Process"
   ]
  },
  {
   "cell_type": "code",
   "execution_count": 5,
   "metadata": {},
   "outputs": [
    {
     "name": "stdout",
     "output_type": "stream",
     "text": [
      "NHPP Model Parameters: [1.42827859e+00 5.96523549e-04]\n"
     ]
    },
    {
     "name": "stderr",
     "output_type": "stream",
     "text": [
      "C:\\Users\\Rishabh\\AppData\\Local\\Temp\\ipykernel_3492\\445557386.py:2: RuntimeWarning: overflow encountered in exp\n",
      "  return theta0 * np.exp(-beta * t)\n"
     ]
    }
   ],
   "source": [
    "def nhpp_model(t, theta0, beta):\n",
    "    return theta0 * np.exp(-beta * t)\n",
    "\n",
    "# Fit the NHPP model\n",
    "params, _ = curve_fit(nhpp_model, np.arange(len(df)), df['defects'], p0=initial_params)\n",
    "print(f\"NHPP Model Parameters: {params}\")\n"
   ]
  },
  {
   "cell_type": "markdown",
   "metadata": {},
   "source": [
    "#### Littlewood-Verall Model"
   ]
  },
  {
   "cell_type": "code",
   "execution_count": 6,
   "metadata": {},
   "outputs": [
    {
     "name": "stdout",
     "output_type": "stream",
     "text": [
      "Littlewood-Verall Model Parameters: [ 0.15928198 25.32055795]\n"
     ]
    }
   ],
   "source": [
    "def littlewood_verall(t, a, b):\n",
    "    return a * (1 - np.exp(-b * t))\n",
    "\n",
    "# Fit the Littlewood-Verall model\n",
    "params, _ = curve_fit(littlewood_verall, np.arange(len(df)), df['defects'], p0=initial_params)\n",
    "print(f\"Littlewood-Verall Model Parameters: {params}\")\n"
   ]
  },
  {
   "cell_type": "markdown",
   "metadata": {},
   "source": [
    "#### Weibull Model "
   ]
  },
  {
   "cell_type": "code",
   "execution_count": 7,
   "metadata": {},
   "outputs": [
    {
     "name": "stdout",
     "output_type": "stream",
     "text": [
      "Weibull Model Parameters: [1. 1. 1.]\n"
     ]
    },
    {
     "name": "stderr",
     "output_type": "stream",
     "text": [
      "C:\\Users\\Rishabh\\AppData\\Local\\Temp\\ipykernel_3492\\4136424108.py:2: RuntimeWarning: divide by zero encountered in power\n",
      "  return a * t ** (b - 1) * np.exp(-c * t)\n",
      "C:\\Users\\Rishabh\\AppData\\Local\\Temp\\ipykernel_3492\\4136424108.py:2: RuntimeWarning: overflow encountered in exp\n",
      "  return a * t ** (b - 1) * np.exp(-c * t)\n"
     ]
    }
   ],
   "source": [
    "def weibull_model(t, a, b, c):\n",
    "    return a * t ** (b - 1) * np.exp(-c * t)\n",
    "\n",
    "# Fit the Weibull model\n",
    "params, _ = curve_fit(weibull_model, np.arange(len(df)), df['defects'], p0=[1, 1, 1])\n",
    "print(f\"Weibull Model Parameters: {params}\")\n"
   ]
  },
  {
   "cell_type": "markdown",
   "metadata": {},
   "source": [
    "### Prediction Models - Moving Averages"
   ]
  },
  {
   "cell_type": "code",
   "execution_count": 8,
   "metadata": {},
   "outputs": [
    {
     "name": "stdout",
     "output_type": "stream",
     "text": [
      "   defects  mean_2    mean_3  mean_4\n",
      "0    False     NaN       NaN     NaN\n",
      "1     True     0.5       NaN     NaN\n",
      "2     True     1.0  0.666667     NaN\n",
      "3     True     1.0  1.000000    0.75\n",
      "4     True     1.0  1.000000    1.00\n"
     ]
    }
   ],
   "source": [
    "df['mean_2'] = df['defects'].rolling(window=2).mean()\n",
    "df['mean_3'] = df['defects'].rolling(window=3).mean()\n",
    "df['mean_4'] = df['defects'].rolling(window=4).mean()\n",
    "\n",
    "# Tabulate u-values for evaluation\n",
    "print(df[['defects', 'mean_2', 'mean_3', 'mean_4']].head())\n"
   ]
  },
  {
   "cell_type": "markdown",
   "metadata": {},
   "source": [
    "### Kolmogorov-Smirnov Test"
   ]
  },
  {
   "cell_type": "code",
   "execution_count": null,
   "metadata": {},
   "outputs": [
    {
     "name": "stdout",
     "output_type": "stream",
     "text": [
      "KS Statistic: 0.15919418358073312\n",
      "P-value: 1.2692040789166808e-146\n"
     ]
    },
    {
     "data": {
      "image/png": "[encoded data removed]",
      "text/plain": [
       "<Figure size 600x500 with 2 Axes>"
      ]
     },
     "metadata": {},
     "output_type": "display_data"
    }
   ],
   "source": [
    "from scipy.stats import ks_2samp\n",
    "import numpy as np\n",
    "\n",
    "if len(params) > 2:\n",
    "    params = params[:2]\n",
    "\n",
    "predictions = jelinski_moranda(np.arange(len(df)), *params)\n",
    "\n",
    "ks_stat, p_value = ks_2samp(df['defects'], predictions)\n",
    "print(f\"KS Statistic: {ks_stat}\\nP-value: {p_value}\")\n",
    "\n",
    "x_values = np.linspace(min(min(df['defects']), min(predictions)), max(max(df['defects']), max(predictions)), 1000)\n",
    "\n",
    "actual_sorted = np.sort(df['defects'])\n",
    "expected_sorted = np.sort(predictions)\n",
    "actual_cdf = np.searchsorted(actual_sorted, x_values, side='right') / len(actual_sorted)\n",
    "expected_cdf = np.searchsorted(expected_sorted, x_values, side='right') / len(expected_sorted)\n",
    "\n",
    "cdf_difference = actual_cdf - expected_cdf\n",
    "\n",
    "fig, (ax1, ax2) = plt.subplots(2, 1, figsize=(6, 5), sharex=True)\n",
    "\n",
    "ax1.plot(x_values, actual_cdf, label=\"Actual CDF\", color=\"blue\", linestyle='-')\n",
    "ax1.plot(x_values, expected_cdf, label=\"Expected CDF\", color=\"red\", linestyle='-')\n",
    "ax1.set_ylabel(\"Cumulative Probability\")\n",
    "ax1.set_title(\"Kolmogorov-Smirnov Test - Actual vs Expected CDF\")\n",
    "ax1.legend()\n",
    "ax1.grid(True)\n",
    "\n",
    "ax2.plot(x_values, cdf_difference, label=\"CDF Difference (Actual - Expected)\", color=\"purple\", linestyle='-')\n",
    "ax2.axhline(0, color='black', linestyle='--')\n",
    "ax2.set_xlabel(\"Data Values\")\n",
    "ax2.set_ylabel(\"CDF Difference\")\n",
    "ax2.set_title(\"Difference between Actual and Expected CDFs\")\n",
    "ax2.legend()\n",
    "ax2.grid(True)\n",
    "\n",
    "plt.tight_layout()\n",
    "plt.show()"
   ]
  },
  {
   "cell_type": "markdown",
   "metadata": {},
   "source": [
    "### Least Mean Squared Analysis"
   ]
  },
  {
   "cell_type": "code",
   "execution_count": 10,
   "metadata": {},
   "outputs": [
    {
     "name": "stdout",
     "output_type": "stream",
     "text": [
      "                            OLS Regression Results                            \n",
      "==============================================================================\n",
      "Dep. Variable:                defects   R-squared:                       0.085\n",
      "Model:                            OLS   Adj. R-squared:                  0.084\n",
      "Method:                 Least Squares   F-statistic:                     304.8\n",
      "Date:                Tue, 05 Nov 2024   Prob (F-statistic):          3.49e-251\n",
      "Time:                        11:36:57   Log-Likelihood:                -4878.2\n",
      "No. Observations:               13204   AIC:                             9766.\n",
      "Df Residuals:                   13199   BIC:                             9804.\n",
      "Df Model:                           4                                         \n",
      "Covariance Type:            nonrobust                                         \n",
      "==============================================================================\n",
      "                 coef    std err          t      P>|t|      [0.025      0.975]\n",
      "------------------------------------------------------------------------------\n",
      "Intercept      0.0978      0.006     16.464      0.000       0.086       0.109\n",
      "loc            0.0019      0.000     18.777      0.000       0.002       0.002\n",
      "v          -4.926e-05   4.27e-06    -11.540      0.000   -5.76e-05   -4.09e-05\n",
      "l             -0.1770      0.020     -9.012      0.000      -0.216      -0.139\n",
      "i              0.0015      0.000     12.469      0.000       0.001       0.002\n",
      "==============================================================================\n",
      "Omnibus:                     3662.422   Durbin-Watson:                   0.107\n",
      "Prob(Omnibus):                  0.000   Jarque-Bera (JB):             7684.128\n",
      "Skew:                           1.685   Prob(JB):                         0.00\n",
      "Kurtosis:                       4.614   Cond. No.                     1.26e+04\n",
      "==============================================================================\n",
      "\n",
      "Notes:\n",
      "[1] Standard Errors assume that the covariance matrix of the errors is correctly specified.\n",
      "[2] The condition number is large, 1.26e+04. This might indicate that there are\n",
      "strong multicollinearity or other numerical problems.\n"
     ]
    }
   ],
   "source": [
    "df['defects'] = df['defects'].astype(int)\n",
    "model = ols('defects ~ loc + v + l + i', data=df).fit()\n",
    "print(model.summary())"
   ]
  },
  {
   "cell_type": "markdown",
   "metadata": {},
   "source": [
    "### Prequential Analysis"
   ]
  },
  {
   "cell_type": "code",
   "execution_count": 11,
   "metadata": {},
   "outputs": [
    {
     "name": "stderr",
     "output_type": "stream",
     "text": [
      "  0%|          | 0/3300 [00:00<?, ?it/s]"
     ]
    },
    {
     "name": "stderr",
     "output_type": "stream",
     "text": [
      "100%|██████████| 3300/3300 [00:05<00:00, 569.74it/s]"
     ]
    },
    {
     "name": "stdout",
     "output_type": "stream",
     "text": [
      "Average MSE: 0.2529\n",
      "Average Accuracy: 0.7471\n"
     ]
    },
    {
     "name": "stderr",
     "output_type": "stream",
     "text": [
      "\n"
     ]
    }
   ],
   "source": [
    "df['defects'] = df['defects'].astype(int)\n",
    "features = ['loc', 'v', 'l', 'i']\n",
    "target = 'defects'\n",
    "X = df[features].values\n",
    "y = df[target].values\n",
    "\n",
    "model = SGDClassifier(max_iter=10, tol=1e-3, random_state=0)\n",
    "\n",
    "batch_size = 4 \n",
    "mse_scores = []\n",
    "accuracy_scores = []\n",
    "\n",
    "for i in tqdm(range(batch_size, len(X), batch_size)):\n",
    "    X_train, y_train = X[:i], y[:i]\n",
    "    X_test, y_test = X[i:i + batch_size], y[i:i + batch_size]\n",
    "    \n",
    "    model.partial_fit(X_train, y_train, classes=np.unique(y))\n",
    "    \n",
    "    y_pred = model.predict(X_test)\n",
    "    mse = mean_squared_error(y_test, y_pred)\n",
    "    acc = accuracy_score(y_test, y_pred)\n",
    "    \n",
    "    mse_scores.append(mse)\n",
    "    accuracy_scores.append(acc)\n",
    "\n",
    "avg_mse = np.mean(mse_scores)\n",
    "avg_acc = np.mean(accuracy_scores)\n",
    "\n",
    "print(f\"Average MSE: {avg_mse:.4f}\")\n",
    "print(f\"Average Accuracy: {avg_acc:.4f}\")"
   ]
  },
  {
   "cell_type": "markdown",
   "metadata": {},
   "source": [
    "### Improving Accuracy "
   ]
  },
  {
   "cell_type": "markdown",
   "metadata": {},
   "source": [
    "#### Optimal Data Selection - Outlier Removal"
   ]
  },
  {
   "cell_type": "code",
   "execution_count": 24,
   "metadata": {},
   "outputs": [
    {
     "name": "stdout",
     "output_type": "stream",
     "text": [
      "Number of Outliers: 661\n",
      "(12543, 4)\n",
      "(13204, 4)\n"
     ]
    }
   ],
   "source": [
    "from sklearn.ensemble import IsolationForest\n",
    "\n",
    "iso_forest = IsolationForest(contamination=0.05, random_state=0)\n",
    "outliers = iso_forest.fit_predict(X)\n",
    "\n",
    "X_filtered = X[outliers == 1]\n",
    "y_filtered = y[outliers == 1]\n",
    "\n",
    "print(f\"Number of Outliers: {np.sum(outliers == -1)}\")\n",
    "\n",
    "print(pd.DataFrame(X_filtered).shape)\n",
    "print(pd.DataFrame(X).shape)"
   ]
  },
  {
   "cell_type": "markdown",
   "metadata": {},
   "source": [
    "### Operational Profile"
   ]
  },
  {
   "cell_type": "code",
   "execution_count": null,
   "metadata": {},
   "outputs": [
    {
     "data": {
      "text/html": [
       "<div>\n",
       "<style scoped>\n",
       "    .dataframe tbody tr th:only-of-type {\n",
       "        vertical-align: middle;\n",
       "    }\n",
       "\n",
       "    .dataframe tbody tr th {\n",
       "        vertical-align: top;\n",
       "    }\n",
       "\n",
       "    .dataframe thead th {\n",
       "        text-align: right;\n",
       "    }\n",
       "</style>\n",
       "<table border=\"1\" class=\"dataframe\">\n",
       "  <thead>\n",
       "    <tr style=\"text-align: right;\">\n",
       "      <th></th>\n",
       "      <th>Operation</th>\n",
       "      <th>Probability</th>\n",
       "      <th>Assigned Test Cases</th>\n",
       "    </tr>\n",
       "  </thead>\n",
       "  <tbody>\n",
       "    <tr>\n",
       "      <th>0</th>\n",
       "      <td>Data Processing</td>\n",
       "      <td>0.021738</td>\n",
       "      <td>21</td>\n",
       "    </tr>\n",
       "    <tr>\n",
       "      <th>1</th>\n",
       "      <td>File Management</td>\n",
       "      <td>0.099235</td>\n",
       "      <td>99</td>\n",
       "    </tr>\n",
       "    <tr>\n",
       "      <th>2</th>\n",
       "      <td>Error Handling</td>\n",
       "      <td>0.048814</td>\n",
       "      <td>48</td>\n",
       "    </tr>\n",
       "    <tr>\n",
       "      <th>3</th>\n",
       "      <td>User Interface Update</td>\n",
       "      <td>0.179455</td>\n",
       "      <td>179</td>\n",
       "    </tr>\n",
       "    <tr>\n",
       "      <th>4</th>\n",
       "      <td>Data Validation</td>\n",
       "      <td>0.100029</td>\n",
       "      <td>100</td>\n",
       "    </tr>\n",
       "    <tr>\n",
       "      <th>5</th>\n",
       "      <td>System Communication</td>\n",
       "      <td>0.043709</td>\n",
       "      <td>43</td>\n",
       "    </tr>\n",
       "    <tr>\n",
       "      <th>6</th>\n",
       "      <td>Logging</td>\n",
       "      <td>0.128454</td>\n",
       "      <td>128</td>\n",
       "    </tr>\n",
       "    <tr>\n",
       "      <th>7</th>\n",
       "      <td>Memory Management</td>\n",
       "      <td>0.096813</td>\n",
       "      <td>96</td>\n",
       "    </tr>\n",
       "    <tr>\n",
       "      <th>8</th>\n",
       "      <td>Computation Intensive Task</td>\n",
       "      <td>0.113960</td>\n",
       "      <td>113</td>\n",
       "    </tr>\n",
       "    <tr>\n",
       "      <th>9</th>\n",
       "      <td>Network Operation</td>\n",
       "      <td>0.167794</td>\n",
       "      <td>167</td>\n",
       "    </tr>\n",
       "  </tbody>\n",
       "</table>\n",
       "</div>"
      ],
      "text/plain": [
       "                    Operation  Probability  Assigned Test Cases\n",
       "0             Data Processing     0.021738                   21\n",
       "1             File Management     0.099235                   99\n",
       "2              Error Handling     0.048814                   48\n",
       "3       User Interface Update     0.179455                  179\n",
       "4             Data Validation     0.100029                  100\n",
       "5        System Communication     0.043709                   43\n",
       "6                     Logging     0.128454                  128\n",
       "7           Memory Management     0.096813                   96\n",
       "8  Computation Intensive Task     0.113960                  113\n",
       "9           Network Operation     0.167794                  167"
      ]
     },
     "execution_count": 25,
     "metadata": {},
     "output_type": "execute_result"
    }
   ],
   "source": [
    "import pandas as pd\n",
    "import numpy as np\n",
    "\n",
    "operations = [\n",
    "    \"Data Processing\",\n",
    "    \"File Management\",\n",
    "    \"Error Handling\",\n",
    "    \"User Interface Update\",\n",
    "    \"Data Validation\",\n",
    "    \"System Communication\",\n",
    "    \"Logging\",\n",
    "    \"Memory Management\",\n",
    "    \"Computation Intensive Task\",\n",
    "    \"Network Operation\"\n",
    "]\n",
    "\n",
    "num_operations = len(operations)\n",
    "probabilities = np.random.dirichlet(np.ones(num_operations), size=1)[0]\n",
    "total_test_cases = 1000\n",
    "test_cases = (probabilities * total_test_cases).astype(int)\n",
    "\n",
    "operational_profile = pd.DataFrame({\n",
    "    \"Operation\": operations,\n",
    "    \"Probability\": probabilities,\n",
    "    \"Assigned Test Cases\": test_cases\n",
    "})\n",
    "\n",
    "operational_profile\n"
   ]
  },
  {
   "cell_type": "markdown",
   "metadata": {},
   "source": [
    "### Reliability Testing - Regression Testing\n"
   ]
  },
  {
   "cell_type": "markdown",
   "metadata": {},
   "source": [
    "Regression testing is a type of software testing that verifies that updates or changes to a software product do not impact its existing functionality"
   ]
  },
  {
   "cell_type": "code",
   "execution_count": 13,
   "metadata": {},
   "outputs": [
    {
     "name": "stdout",
     "output_type": "stream",
     "text": [
      "Iteration 1 - MSE: 0.0000, Accuracy: 1.0000\n",
      "Iteration 2 - MSE: 0.0000, Accuracy: 1.0000\n",
      "Iteration 3 - MSE: 0.0000, Accuracy: 1.0000\n",
      "Iteration 4 - MSE: 0.0000, Accuracy: 1.0000\n",
      "Iteration 5 - MSE: 0.0000, Accuracy: 1.0000\n"
     ]
    }
   ],
   "source": [
    "initial_preds = model.predict(X_test)\n",
    "\n",
    "for i in range(5):\n",
    "    model.partial_fit(X_filtered, y_filtered, classes=np.unique(y_filtered))\n",
    "    \n",
    "    initial_preds = model.predict(X_test)\n",
    "    mse = mean_squared_error(y_test, initial_preds)\n",
    "    acc = accuracy_score(y_test, initial_preds)\n",
    "    \n",
    "    print(f\"Iteration {i + 1} - MSE: {mse:.4f}, Accuracy: {acc:.4f}\")"
   ]
  },
  {
   "cell_type": "markdown",
   "metadata": {},
   "source": [
    "The retest is consistent with the test hence verified that functionality remains same"
   ]
  },
  {
   "cell_type": "markdown",
   "metadata": {},
   "source": [
    "### Markov Model for Test Case Optimization"
   ]
  },
  {
   "cell_type": "code",
   "execution_count": 14,
   "metadata": {},
   "outputs": [
    {
     "name": "stdout",
     "output_type": "stream",
     "text": [
      "Optimized Test States: [1, 1, 0, 0, 0, 0, 0, 0, 0, 0]\n"
     ]
    }
   ],
   "source": [
    "import numpy as np\n",
    "\n",
    "transition_matrix = np.array([\n",
    "    [0.7, 0.3],\n",
    "    [0.4, 0.6]\n",
    "])\n",
    "\n",
    "def markov_chain_tests(steps, matrix, initial_state=0):\n",
    "    state = initial_state\n",
    "    for _ in range(steps):\n",
    "        state = np.random.choice([0, 1], p=matrix[state])\n",
    "    return state\n",
    "\n",
    "optimized_tests = [markov_chain_tests(10, transition_matrix) for _ in range(10)]\n",
    "print(f\"Optimized Test States: {optimized_tests}\")"
   ]
  },
  {
   "cell_type": "markdown",
   "metadata": {},
   "source": [
    "### Certification Bodies"
   ]
  },
  {
   "cell_type": "markdown",
   "metadata": {},
   "source": [
    "- **NASA Software Assurance** - For projects within NASA’s scope.\n",
    "- **ISO 9001/IEC 61508** - International standards for system reliability and quality.\n",
    "- **CMMI (Capability Maturity Model Integration)** - For assessing process improvement in software development.\n"
   ]
  },
  {
   "cell_type": "markdown",
   "metadata": {},
   "source": [
    "### Risk Analysis"
   ]
  },
  {
   "cell_type": "markdown",
   "metadata": {},
   "source": [
    "Dummy Statistics for Risk Analysis "
   ]
  },
  {
   "cell_type": "code",
   "execution_count": 15,
   "metadata": {},
   "outputs": [
    {
     "data": {
      "text/html": [
       "<div>\n",
       "<style scoped>\n",
       "    .dataframe tbody tr th:only-of-type {\n",
       "        vertical-align: middle;\n",
       "    }\n",
       "\n",
       "    .dataframe tbody tr th {\n",
       "        vertical-align: top;\n",
       "    }\n",
       "\n",
       "    .dataframe thead th {\n",
       "        text-align: right;\n",
       "    }\n",
       "</style>\n",
       "<table border=\"1\" class=\"dataframe\">\n",
       "  <thead>\n",
       "    <tr style=\"text-align: right;\">\n",
       "      <th></th>\n",
       "      <th>Risk</th>\n",
       "      <th>Probability</th>\n",
       "      <th>Impact</th>\n",
       "      <th>Risk Level</th>\n",
       "    </tr>\n",
       "  </thead>\n",
       "  <tbody>\n",
       "    <tr>\n",
       "      <th>0</th>\n",
       "      <td>Data Loss</td>\n",
       "      <td>0.3</td>\n",
       "      <td>8</td>\n",
       "      <td>2.4</td>\n",
       "    </tr>\n",
       "    <tr>\n",
       "      <th>1</th>\n",
       "      <td>Model Drift</td>\n",
       "      <td>0.5</td>\n",
       "      <td>6</td>\n",
       "      <td>3.0</td>\n",
       "    </tr>\n",
       "    <tr>\n",
       "      <th>2</th>\n",
       "      <td>Overfitting</td>\n",
       "      <td>0.7</td>\n",
       "      <td>9</td>\n",
       "      <td>6.3</td>\n",
       "    </tr>\n",
       "  </tbody>\n",
       "</table>\n",
       "</div>"
      ],
      "text/plain": [
       "          Risk  Probability  Impact  Risk Level\n",
       "0    Data Loss          0.3       8         2.4\n",
       "1  Model Drift          0.5       6         3.0\n",
       "2  Overfitting          0.7       9         6.3"
      ]
     },
     "execution_count": 15,
     "metadata": {},
     "output_type": "execute_result"
    }
   ],
   "source": [
    "import pandas as pd\n",
    "\n",
    "risks = pd.DataFrame({\n",
    "    'Risk': ['Data Loss', 'Model Drift', 'Overfitting'],\n",
    "    'Probability': [0.3, 0.5, 0.7],\n",
    "    'Impact': [8, 6, 9]\n",
    "})\n",
    "risks['Risk Level'] = risks['Probability'] * risks['Impact']\n",
    "risks"
   ]
  },
  {
   "cell_type": "markdown",
   "metadata": {},
   "source": [
    "### Metrics Calculation"
   ]
  },
  {
   "cell_type": "markdown",
   "metadata": {},
   "source": [
    "#### Cyclometric Complexity"
   ]
  },
  {
   "cell_type": "code",
   "execution_count": 16,
   "metadata": {},
   "outputs": [
    {
     "data": {
      "text/plain": [
       "0"
      ]
     },
     "execution_count": 16,
     "metadata": {},
     "output_type": "execute_result"
    }
   ],
   "source": [
    "import os\n",
    "os.system(\"radon cc -s -a model.py\")"
   ]
  },
  {
   "cell_type": "markdown",
   "metadata": {},
   "source": [
    "#### Cohesion and Coupling"
   ]
  },
  {
   "cell_type": "code",
   "execution_count": 17,
   "metadata": {},
   "outputs": [
    {
     "name": "stdout",
     "output_type": "stream",
     "text": [
      "Modules and dependencies (indicative of coupling)\n",
      "\n",
      " defaultdict(<class 'list'>, {'modules': ['pandas', 'numpy'], 'from_sklearn.linear_model': ['SGDClassifier'], 'from_sklearn.metrics': ['mean_squared_error', 'accuracy_score'], 'from_tqdm': ['tqdm']})\n"
     ]
    }
   ],
   "source": [
    "code_block = \"\"\"\n",
    "import pandas as pd\n",
    "import numpy as np\n",
    "from sklearn.linear_model import SGDClassifier\n",
    "from sklearn.metrics import mean_squared_error, accuracy_score\n",
    "from tqdm import tqdm\n",
    "\n",
    "df = pd.read_csv('jm1.csv')\n",
    "\n",
    "df['defects'] = df['defects'].astype(int)\n",
    "features = ['loc', 'v', 'l', 'i']\n",
    "target = 'defects'\n",
    "X = df[features].values\n",
    "y = df[target].values\n",
    "\n",
    "model = SGDClassifier(max_iter=10, tol=1e-3, random_state=0)\n",
    "\n",
    "batch_size = 4 \n",
    "mse_scores = []\n",
    "accuracy_scores = []\n",
    "\n",
    "for i in tqdm(range(batch_size, len(X), batch_size)):\n",
    "    X_train, y_train = X[:i], y[:i]\n",
    "    X_test, y_test = X[i:i + batch_size], y[i:i + batch_size]\n",
    "    \n",
    "    model.partial_fit(X_train, y_train, classes=np.unique(y))\n",
    "    \n",
    "    y_pred = model.predict(X_test)\n",
    "    mse = mean_squared_error(y_test, y_pred)\n",
    "    acc = accuracy_score(y_test, y_pred)\n",
    "    \n",
    "    mse_scores.append(mse)\n",
    "    accuracy_scores.append(acc)\n",
    "\n",
    "avg_mse = np.mean(mse_scores)\n",
    "avg_acc = np.mean(accuracy_scores)\n",
    "\n",
    "print(f\"Average MSE: {avg_mse:.4f}\")\n",
    "print(f\"Average Accuracy: {avg_acc:.4f}\")\n",
    "\"\"\"\n",
    "\n",
    "import ast\n",
    "from collections import defaultdict\n",
    "\n",
    "def analyze_coupling(code_str):\n",
    "    tree = ast.parse(code_str)\n",
    "    imports = defaultdict(list)\n",
    "    for node in ast.walk(tree):\n",
    "        if isinstance(node, ast.Import):\n",
    "            for name in node.names:\n",
    "                imports[\"modules\"].append(name.name)\n",
    "        elif isinstance(node, ast.ImportFrom):\n",
    "            imports[\"from_\" + node.module].extend([name.name for name in node.names])\n",
    "    return imports\n",
    "\n",
    "coupling_info = analyze_coupling(code_block)\n",
    "print(\"Modules and dependencies (indicative of coupling)\\n\\n\", coupling_info)\n"
   ]
  },
  {
   "cell_type": "markdown",
   "metadata": {},
   "source": [
    "### GQM - Goal Question Metrics\n"
   ]
  },
  {
   "cell_type": "markdown",
   "metadata": {},
   "source": [
    "#### Questions (Q) and Metrics (M)\n",
    "\n",
    "1.  **How easy is the code to understand?**\n",
    "\n",
    "    -   **M1.1: Cyclomatic Complexity**: Measures the number of independent paths through the code (lower complexity indicates easier comprehension).\n",
    "    -   **M1.2: Comment Density**: Ratio of lines of comments to lines of code. High comment density can help in understanding.\n",
    "    -   **M1.3: Function Length**: Measures the average length of functions (in lines). Shorter, more focused functions are typically easier to understand.\n",
    "    -   **M1.4: Halstead Difficulty**: Measures complexity based on operators and operands in the code. Lower difficulty scores mean code is easier to interpret.\n",
    "2.  **How easy is the code to modify?**\n",
    "\n",
    "    -   **M2.1: Coupling Between Objects (CBO)**: Measures the degree of interdependence between modules. Lower coupling indicates the code is modular and easier to change.\n",
    "    -   **M2.2: Lack of Cohesion of Methods (LCOM)**: Measures the degree to which methods within a class are related to each other. High cohesion (low LCOM score) implies that methods are logically grouped, making modification easier.\n",
    "    -   **M2.3: Depth of Inheritance Tree (DIT)**: Indicates the levels of inheritance in the codebase. Lower inheritance depth typically results in fewer dependencies, making code easier to modify.\n",
    "3.  **How easily can defects be located and fixed in the code?**\n",
    "\n",
    "    -   **M3.1: Defect Density**: Measures the number of known defects per module. A low defect density is desirable for easy maintainability.\n",
    "    -   **M3.2: Code Churn Rate**: Measures the number of changes over time in each module, indicating areas of the code that might be difficult to stabilize and maintain.\n",
    "    -   **M3.3: Test Coverage**: Measures the percentage of code covered by automated tests. Higher test coverage typically implies that it's easier to find and fix issues.\n",
    "4.  **How likely is the code to be stable over time?**\n",
    "\n",
    "    -   **M4.1: Number of Code Smells**: Detects common patterns in the code that can make maintenance harder (e.g., long methods, large classes).\n",
    "    -   **M4.2: Maintainability Index**: An overall score based on a combination of complexity, code lines, and other factors, indicating the maintainability of the module."
   ]
  }
 ],
 "metadata": {
  "kernelspec": {
   "display_name": "Python 3",
   "language": "python",
   "name": "python3"
  },
  "language_info": {
   "codemirror_mode": {
    "name": "ipython",
    "version": 3
   },
   "file_extension": ".py",
   "mimetype": "text/x-python",
   "name": "python",
   "nbconvert_exporter": "python",
   "pygments_lexer": "ipython3",
   "version": "3.11.9"
  }
 },
 "nbformat": 4,
 "nbformat_minor": 2
}
